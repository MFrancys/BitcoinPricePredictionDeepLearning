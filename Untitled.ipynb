{
 "cells": [
  {
   "cell_type": "code",
   "execution_count": 1,
   "metadata": {},
   "outputs": [],
   "source": [
    "%load_ext autoreload\n",
    "%autoreload 2"
   ]
  },
  {
   "cell_type": "code",
   "execution_count": 6,
   "metadata": {},
   "outputs": [
    {
     "ename": "ImportError",
     "evalue": "cannot import name 'extration_features_ts' from 'src.features.build_features' (C:\\Users\\ECF4886C\\Desktop\\ProyectosPythonMF\\BitcoinPricePrediction\\src\\features\\build_features.py)",
     "output_type": "error",
     "traceback": [
      "\u001b[1;31m---------------------------------------------------------------------------\u001b[0m",
      "\u001b[1;31mImportError\u001b[0m                               Traceback (most recent call last)",
      "\u001b[1;32m<ipython-input-6-59ebff9ac484>\u001b[0m in \u001b[0;36m<module>\u001b[1;34m()\u001b[0m\n\u001b[0;32m      3\u001b[0m \u001b[1;33m\u001b[0m\u001b[0m\n\u001b[0;32m      4\u001b[0m \u001b[1;32mfrom\u001b[0m \u001b[0msrc\u001b[0m\u001b[1;33m.\u001b[0m\u001b[0mdata\u001b[0m\u001b[1;33m.\u001b[0m\u001b[0mprocessing_data\u001b[0m \u001b[1;32mimport\u001b[0m \u001b[0mtest_stationary\u001b[0m\u001b[1;33m\u001b[0m\u001b[0m\n\u001b[1;32m----> 5\u001b[1;33m \u001b[1;32mfrom\u001b[0m \u001b[0msrc\u001b[0m\u001b[1;33m.\u001b[0m\u001b[0mfeatures\u001b[0m\u001b[1;33m.\u001b[0m\u001b[0mbuild_features\u001b[0m \u001b[1;32mimport\u001b[0m \u001b[0mextration_features_ts\u001b[0m\u001b[1;33m\u001b[0m\u001b[0m\n\u001b[0m",
      "\u001b[1;31mImportError\u001b[0m: cannot import name 'extration_features_ts' from 'src.features.build_features' (C:\\Users\\ECF4886C\\Desktop\\ProyectosPythonMF\\BitcoinPricePrediction\\src\\features\\build_features.py)"
     ]
    }
   ],
   "source": [
    "import os\n",
    "import pandas as pd\n",
    "\n",
    "from src.data.processing_data import test_stationary\n",
    "from src.features.build_features import extraction_features_ts"
   ]
  },
  {
   "cell_type": "code",
   "execution_count": null,
   "metadata": {},
   "outputs": [],
   "source": [
    "###Import and load time series Bitcoin by daily\n",
    "ROOT_PATH = os.getcwd()\n",
    "PATH_DATA = os.path.join(ROOT_PATH, \"data\\\\processed\\\\ts_daily_bitcoin_2019-01-01_2019-03-13.csv\") \n",
    "df_daily_bitcoin = pd.read_csv(PATH_DATA).sort_index()\n",
    "#df_daily_bitcoin = df_daily_bitcoin.set_index(pd.to_datetime(df_daily_bitcoin[\"Timestamp\"])).sort_index()\n",
    "df_daily_bitcoin.tail()\n",
    "\n",
    "TARGET = \"Close\"\n",
    "###Test for stationary\n",
    "df_daily_bitcoin[\"DiffClose\"], adf_test = test_stationary(df_daily_bitcoin, TARGET)\n",
    "df_daily_bitcoin = df_daily_bitcoin.dropna(subset=[\"DiffClose\"])\n",
    "\n",
    "TARGET = \"DiffClose\"\n",
    "raw_values = df_daily_bitcoin[\"Close\"].values\n",
    " \n",
    "###Get features\n",
    "df_features = df_daily_bitcoin\n",
    "window = 7\n",
    "list_features = [TARGET, \"Timestamp\"]\n",
    "settings = MinimalFCParameters()\n",
    "df_features_bitcoin = extraction_features_ts(df_features, window, settings, TARGET, list_features)"
   ]
  },
  {
   "cell_type": "code",
   "execution_count": null,
   "metadata": {},
   "outputs": [],
   "source": []
  }
 ],
 "metadata": {
  "hide_input": false,
  "kernelspec": {
   "display_name": "myvenv",
   "language": "python",
   "name": "myvenv"
  },
  "language_info": {
   "codemirror_mode": {
    "name": "ipython",
    "version": 3
   },
   "file_extension": ".py",
   "mimetype": "text/x-python",
   "name": "python",
   "nbconvert_exporter": "python",
   "pygments_lexer": "ipython3",
   "version": "3.7.0"
  }
 },
 "nbformat": 4,
 "nbformat_minor": 2
}
