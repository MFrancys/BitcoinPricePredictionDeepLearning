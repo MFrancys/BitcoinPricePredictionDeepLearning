{
 "cells": [
  {
   "cell_type": "code",
   "execution_count": null,
   "metadata": {},
   "outputs": [],
   "source": [
    "%load_ext autoreload\n",
    "%autoreload 2\n",
    "\n",
    "import os\n",
    "import pandas as pd\n",
    "\n",
    "from src.data.processing_data import test_stationary\n",
    "from src.features.build_features import extraction_features_ts\n",
    "\n",
    "###Import and load time series Bitcoin by daily\n",
    "ROOT_PATH = os.getcwd()\n",
    "PATH_DATA = os.path.join(ROOT_PATH, \"data\\\\processed\\\\ts_daily_bitcoin_2019-01-01_2019-03-13.csv\") \n",
    "df_daily_bitcoin = pd.read_csv(PATH_DATA).sort_index()\n",
    "#df_daily_bitcoin = df_daily_bitcoin.set_index(pd.to_datetime(df_daily_bitcoin[\"Timestamp\"])).sort_index()\n",
    "df_daily_bitcoin.tail()\n",
    "\n",
    "TARGET = \"Close\"\n",
    "###Test for stationary\n",
    "df_daily_bitcoin[\"DiffClose\"], adf_test = test_stationary(df_daily_bitcoin, TARGET)\n",
    "df_daily_bitcoin = df_daily_bitcoin.dropna(subset=[\"DiffClose\"])\n",
    "\n",
    "TARGET = \"DiffClose\"\n",
    "raw_values = df_daily_bitcoin[\"Close\"].values\n",
    " \n",
    "###Get features\n",
    "df_features = df_daily_bitcoin\n",
    "window = 7\n",
    "list_features = [TARGET, \"Timestamp\"]\n",
    "settings = MinimalFCParameters()\n",
    "df_features_bitcoin = extraction_features_ts(df_features, window, settings, TARGET, list_features)"
   ]
  }
 ],
 "metadata": {
  "kernelspec": {
   "display_name": "Python 3",
   "language": "python",
   "name": "python3"
  },
  "language_info": {
   "codemirror_mode": {
    "name": "ipython",
    "version": 3
   },
   "file_extension": ".py",
   "mimetype": "text/x-python",
   "name": "python",
   "nbconvert_exporter": "python",
   "pygments_lexer": "ipython3",
   "version": "3.6.6"
  }
 },
 "nbformat": 4,
 "nbformat_minor": 2
}
